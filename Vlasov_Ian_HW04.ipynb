{
 "cells": [
  {
   "cell_type": "markdown",
   "metadata": {},
   "source": [
    "## “Аналитическая геометрия” и “Графики на плоскости”"
   ]
  },
  {
   "cell_type": "markdown",
   "metadata": {},
   "source": [
    "### Задание 1"
   ]
  },
  {
   "cell_type": "markdown",
   "metadata": {},
   "source": [
    "Данное уравнение может быть равно 0 только тогда, когда sin(x) = 0, а x != 0, имеет бесконечное количество корней x = pi*n, n!=0, n -  целое"
   ]
  },
  {
   "cell_type": "markdown",
   "metadata": {},
   "source": [
    "### Задание 2"
   ]
  },
  {
   "cell_type": "markdown",
   "metadata": {},
   "source": [
    "Должна существовать такая точка (x0, y0), для которой будут справедливы все 3 равенства.\n",
    "\n",
    "Необходимо рассмотреть следующее равенство: k1*x + b1 = k2*x + b2, найти из него точку (x0, y0) пересечения 2х прямых и подставить ее в третье уравнение, тем самым проверив, проходит ли оно через найденную точку."
   ]
  },
  {
   "cell_type": "markdown",
   "metadata": {},
   "source": [
    "### Задание 3"
   ]
  },
  {
   "cell_type": "markdown",
   "metadata": {},
   "source": [
    "Расположем систему координаттаким образом, чтобы ось у была перпендикулярна линиям тетради, обозначим угол альфа - угол между иглой и осью абсцисс.\n",
    "\n",
    "Иголка пересечет одну из линий если будет выполнено следующее неравенство:\n",
    "\n",
    "* |b*sin(alpha)| > (a - y%a) (остаток от деления), если\n",
    "* 0 > alpha > pi/2, т.е игла направлена \"вверх\" и\n",
    "* y > 0\n",
    "\n",
    "или\n",
    "\n",
    "* |b*sin(alpha)| > y%a, если\n",
    "* pi/2 > alpha > pi (игла направлена \"вниз\")\n",
    "* y > 0\n",
    "\n",
    "или\n",
    "\n",
    "* |b*sin(alpha)| > (a - y%a), если\n",
    "* pi/2 > alpha > pi\n",
    "* y < 0\n",
    "\n",
    "или\n",
    "\n",
    "* |b*sin(alpha)| > (a - y%a)\n",
    "* 0 > alpha > pi/2\n",
    "* y > 0"
   ]
  },
  {
   "cell_type": "markdown",
   "metadata": {},
   "source": [
    "### Задание 4"
   ]
  },
  {
   "cell_type": "markdown",
   "metadata": {},
   "source": [
    "* 3x - 4y - 12 = 0\n",
    "* x - 7y + 14 = 0\n",
    "\n",
    "проверим скалярное произведение направляющих векторов:\n",
    "\n",
    "p1*p2 = 3*1 + 4*7 = 31 != 0, прямые не ортогональны, тогда\n",
    "\n",
    "tg(a) = (det((3, 1),(-4, -7))) / 31 = (-3*7 + 4) / 31 = 17/31 "
   ]
  },
  {
   "cell_type": "code",
   "execution_count": 5,
   "metadata": {},
   "outputs": [
    {
     "data": {
      "text/plain": [
       "28.739795291688043"
      ]
     },
     "execution_count": 5,
     "metadata": {},
     "output_type": "execute_result"
    }
   ],
   "source": [
    "import numpy as np\n",
    "import math\n",
    "\n",
    "a = np.arctan(17/31)\n",
    "a*180/math.pi"
   ]
  },
  {
   "cell_type": "markdown",
   "metadata": {},
   "source": [
    "### Задание 5"
   ]
  },
  {
   "cell_type": "markdown",
   "metadata": {},
   "source": [
    "Тут возможно не понял, но, кажется, это 2 вертикальные параллельные прямые"
   ]
  },
  {
   "cell_type": "markdown",
   "metadata": {},
   "source": [
    "### Задание 6"
   ]
  },
  {
   "cell_type": "markdown",
   "metadata": {},
   "source": [
    "\\begin{equation}\n",
    "y^{2}-2 x-2 y-5=0\n",
    "\\end{equation}\n",
    "\n",
    "\\begin{equation}\n",
    "(y-1)^{2}=2(3+x)\n",
    "\\end{equation}\n",
    "Это парабола"
   ]
  },
  {
   "cell_type": "markdown",
   "metadata": {},
   "source": [
    "\\begin{equation}\n",
    "3 x^{2}+5 y^{2}+12 x-30 y+42=0\n",
    "\\end{equation}\n",
    "\n",
    "\\begin{equation}\n",
    "(\\sqrt{3}x+2\\sqrt{3})^{2}+(\\sqrt{5}y-3\\sqrt{5})^{2}=15\n",
    "\\end{equation}\n",
    "\n",
    "Эллипс"
   ]
  },
  {
   "cell_type": "markdown",
   "metadata": {},
   "source": [
    "\\begin{equation}\n",
    "2 x^{2}-y^{2}+6 y-7=0\n",
    "\\end{equation}\n",
    "\n",
    "\\begin{equation}\n",
    "2 x^{2}-(y-3)^{2}=2\n",
    "\\end{equation}\n",
    "\n",
    "Гипербола"
   ]
  },
  {
   "cell_type": "markdown",
   "metadata": {},
   "source": [
    "\\begin{equation}\n",
    "2 x^{2}-3 y^{2}-28 x-42 y-55 = 0\n",
    "\\end{equation}\n",
    "\n",
    "\\begin{equation}\n",
    "(\\sqrt{2}x-3.5\\sqrt{2})^2-(\\sqrt{3}y+7\\sqrt{3})^{2} = -67.5\n",
    "\\end{equation}\n",
    "\n",
    "Мнимый эллипс???"
   ]
  },
  {
   "cell_type": "code",
   "execution_count": null,
   "metadata": {},
   "outputs": [],
   "source": []
  }
 ],
 "metadata": {
  "kernelspec": {
   "display_name": "Python 3",
   "language": "python",
   "name": "python3"
  },
  "language_info": {
   "codemirror_mode": {
    "name": "ipython",
    "version": 3
   },
   "file_extension": ".py",
   "mimetype": "text/x-python",
   "name": "python",
   "nbconvert_exporter": "python",
   "pygments_lexer": "ipython3",
   "version": "3.7.3"
  }
 },
 "nbformat": 4,
 "nbformat_minor": 2
}
